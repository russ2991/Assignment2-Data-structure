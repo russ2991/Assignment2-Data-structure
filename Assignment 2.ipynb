{
 "cells": [
  {
   "cell_type": "markdown",
   "id": "dd3d5fa7-7c49-4601-9c2b-6af415781a7c",
   "metadata": {},
   "source": [
    "Question No 1\n",
    "three types of comment are there in python\n",
    "1.Single line comment -a line or more can be commented using # in every line\n",
    "2. Multiline comment- a line or more can be commented using \"\"\" \"\"\" or ''' ''' in every line or to the entire lines at ones\n",
    "3. docstring- these are comments inside function and can be accesed "
   ]
  },
  {
   "cell_type": "markdown",
   "id": "dd9b5967-99d8-4590-b6d6-a8817a70e234",
   "metadata": {},
   "source": [
    "Question No 2\n",
    "variable are containers for data\n",
    "a=5\n",
    "in the line above a is the variable and 5 is the value assigned to it"
   ]
  },
  {
   "cell_type": "markdown",
   "id": "9867e658-fdb2-4f53-850f-965b25a2cab5",
   "metadata": {},
   "source": [
    "Question No 3\n",
    "type casting is the method by which we can change the data type of a given variable\n",
    "1.d=10000\n",
    "2.print(type(d))\n",
    "3.p=str(d)\n",
    "4.print(type(p))\n",
    "in the example above variable d is an integer and in line 3 it is converted into string and stored into variable p\n"
   ]
  },
  {
   "cell_type": "code",
   "execution_count": 8,
   "id": "772c7854-2f76-4d41-a698-c2f3aaf6c65e",
   "metadata": {},
   "outputs": [
    {
     "data": {
      "text/plain": [
       "[2, 3]"
      ]
     },
     "execution_count": 8,
     "metadata": {},
     "output_type": "execute_result"
    }
   ],
   "source": [
    " #Question No 5.\n",
    "my_list = [1, 2, 3, 4, 5]\n",
    "my_list[1:3]"
   ]
  },
  {
   "cell_type": "code",
   "execution_count": 1,
   "id": "067b8026-55a9-4331-a062-df9adb1f9fdb",
   "metadata": {},
   "outputs": [
    {
     "data": {
      "text/plain": [
       "(2+3j)"
      ]
     },
     "execution_count": 1,
     "metadata": {},
     "output_type": "execute_result"
    }
   ],
   "source": [
    "#Question No 6.\n",
    "#complex number is a combination of real and imaginary number represented by a+i.b where a is the real part and i.b is the imaginary part\n",
    "complex(2,3) #is the way to represent complex number"
   ]
  },
  {
   "cell_type": "code",
   "execution_count": null,
   "id": "3773e95c-2ec5-4ba8-a910-abf3fa96c5c6",
   "metadata": {},
   "outputs": [],
   "source": [
    "#Question No 7.\n",
    "age=25\n",
    "# age is the variable and the value of it is 25"
   ]
  },
  {
   "cell_type": "markdown",
   "id": "5a0db950-a8ab-435f-a456-27eb73d6cae2",
   "metadata": {},
   "source": [
    "Question No 8.\n",
    "price=9.99\n",
    "the data type of the variable is float"
   ]
  },
  {
   "cell_type": "code",
   "execution_count": 2,
   "id": "3b82cf86-e19b-4f45-9c13-376172c498f3",
   "metadata": {},
   "outputs": [
    {
     "name": "stdout",
     "output_type": "stream",
     "text": [
      "Saptashwa\n"
     ]
    }
   ],
   "source": [
    "#Question No 9.\n",
    "name='Saptashwa'#the variable name is assigned the value 'Saptashwa' as string\n",
    "print(name)#this function will print the value assigned to the variable name"
   ]
  },
  {
   "cell_type": "code",
   "execution_count": 6,
   "id": "cbe0e0ef-45b8-4ed1-a2a6-24532b43d78e",
   "metadata": {},
   "outputs": [
    {
     "name": "stdout",
     "output_type": "stream",
     "text": [
      "World\n"
     ]
    }
   ],
   "source": [
    "#Question No 10.\n",
    "a= \"Hello, World!\"\n",
    "print(a[-6:-1:1])"
   ]
  },
  {
   "cell_type": "code",
   "execution_count": null,
   "id": "8cabf86c-5f8c-409c-a88f-edd61732e8ad",
   "metadata": {},
   "outputs": [],
   "source": [
    "#Question No.11\n",
    "is_student=True"
   ]
  }
 ],
 "metadata": {
  "kernelspec": {
   "display_name": "Python 3 (ipykernel)",
   "language": "python",
   "name": "python3"
  },
  "language_info": {
   "codemirror_mode": {
    "name": "ipython",
    "version": 3
   },
   "file_extension": ".py",
   "mimetype": "text/x-python",
   "name": "python",
   "nbconvert_exporter": "python",
   "pygments_lexer": "ipython3",
   "version": "3.10.8"
  }
 },
 "nbformat": 4,
 "nbformat_minor": 5
}
